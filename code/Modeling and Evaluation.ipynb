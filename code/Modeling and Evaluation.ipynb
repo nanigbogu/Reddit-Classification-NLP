{
 "cells": [
  {
   "cell_type": "markdown",
   "metadata": {},
   "source": [
    "<img src=\"http://imgur.com/1ZcRyrc.png\" style=\"float: left; margin: 20px; height: 55px\">\n",
    "\n",
    "# Project 3: Reddit"
   ]
  },
  {
   "cell_type": "markdown",
   "metadata": {},
   "source": [
    "# Contents:\n",
    "- [Model and Evaluation](#Model-and-Evaluation)\n",
    "- [Conclusion and Recommendations](#Conclusion-and-Recommendations)"
   ]
  },
  {
   "cell_type": "code",
   "execution_count": 46,
   "metadata": {},
   "outputs": [],
   "source": [
    "import pandas as pd\n",
    "import numpy as np\n",
    "import matplotlib.pyplot as plt\n",
    "from sklearn.model_selection import train_test_split\n",
    "from sklearn.linear_model import LogisticRegression\n",
    "from sklearn.feature_extraction.text import CountVectorizer\n",
    "from sklearn.pipeline import make_pipeline\n",
    "from nltk import word_tokenize\n",
    "from nltk.stem import WordNetLemmatizer\n",
    "from sklearn.ensemble import RandomForestClassifier, AdaBoostClassifier\n",
    "from sklearn.metrics import ConfusionMatrixDisplay\n",
    "from sklearn.neighbors import KNeighborsClassifier\n",
    "from sklearn.dummy import DummyClassifier"
   ]
  },
  {
   "cell_type": "code",
   "execution_count": 2,
   "metadata": {},
   "outputs": [],
   "source": [
    "keto_vegan = pd.read_csv('data/keto_vegan.csv')"
   ]
  },
  {
   "cell_type": "code",
   "execution_count": 3,
   "metadata": {},
   "outputs": [
    {
     "name": "stdout",
     "output_type": "stream",
     "text": [
      "<class 'pandas.core.frame.DataFrame'>\n",
      "RangeIndex: 6471 entries, 0 to 6470\n",
      "Data columns (total 7 columns):\n",
      " #   Column        Non-Null Count  Dtype  \n",
      "---  ------        --------------  -----  \n",
      " 0   subreddit     6471 non-null   object \n",
      " 1   title         6466 non-null   object \n",
      " 2   selftext      6469 non-null   object \n",
      " 3   created_utc   6466 non-null   float64\n",
      " 4   title_posts   6466 non-null   object \n",
      " 5   title_length  6466 non-null   float64\n",
      " 6   post_length   6466 non-null   float64\n",
      "dtypes: float64(3), object(4)\n",
      "memory usage: 354.0+ KB\n"
     ]
    }
   ],
   "source": [
    "keto_vegan.info()"
   ]
  },
  {
   "cell_type": "code",
   "execution_count": 4,
   "metadata": {},
   "outputs": [],
   "source": [
    "keto_vegan.dropna(inplace=True)"
   ]
  },
  {
   "cell_type": "markdown",
   "metadata": {},
   "source": [
    "When loading the data, random values got inserted that created null values. I was able to drop the null values without disrupting the integrity of my data"
   ]
  },
  {
   "cell_type": "markdown",
   "metadata": {},
   "source": [
    "# Model and Evaluation "
   ]
  },
  {
   "cell_type": "code",
   "execution_count": 7,
   "metadata": {
    "tags": []
   },
   "outputs": [
    {
     "data": {
      "text/plain": [
       "((4847,), (1616,))"
      ]
     },
     "execution_count": 7,
     "metadata": {},
     "output_type": "execute_result"
    }
   ],
   "source": [
    "X = keto_vegan['title_posts']\n",
    "y = keto_vegan['subreddit']\n",
    "X_train, X_test, y_train, y_test = train_test_split(X,y,random_state=42,stratify=y)\n",
    "X_train.shape, X_test.shape"
   ]
  },
  {
   "cell_type": "code",
   "execution_count": 8,
   "metadata": {},
   "outputs": [
    {
     "data": {
      "text/plain": [
       "((4847,), (1616,))"
      ]
     },
     "execution_count": 8,
     "metadata": {},
     "output_type": "execute_result"
    }
   ],
   "source": [
    "y_train.shape, y_test.shape"
   ]
  },
  {
   "cell_type": "markdown",
   "metadata": {},
   "source": [
    "#### Baseline Model"
   ]
  },
  {
   "cell_type": "code",
   "execution_count": 9,
   "metadata": {},
   "outputs": [
    {
     "data": {
      "text/plain": [
       "0.5321782178217822"
      ]
     },
     "execution_count": 9,
     "metadata": {},
     "output_type": "execute_result"
    }
   ],
   "source": [
    "dc = DummyClassifier()\n",
    "dc.fit(X_train, y_train)\n",
    "dc.score(X_test, y_test)"
   ]
  },
  {
   "cell_type": "markdown",
   "metadata": {},
   "source": [
    "- **Baseline accuracy score is 53.21%.**\n",
    "- **Success will be defined as anything above this score and the accurate classification of the two slogans:**\n",
    "- **Vegan**: \"I know it may not seem like it but we love animals too\"\n",
    "- **Keto**: \"Healthy fats, quality protein, and just the right amount of carbs to keep you energized throughout the day\""
   ]
  },
  {
   "cell_type": "code",
   "execution_count": 10,
   "metadata": {},
   "outputs": [],
   "source": [
    "def lemma_tokenizer(doc):\n",
    "    wnl = WordNetLemmatizer()\n",
    "    return [wnl.lemmatize(w) for w in word_tokenize(doc)]"
   ]
  },
  {
   "cell_type": "markdown",
   "metadata": {},
   "source": [
    "Function that iterates through a document and implements a more complex stemming process that can derive the root of a word (ex. best and better) "
   ]
  },
  {
   "cell_type": "markdown",
   "metadata": {
    "tags": []
   },
   "source": [
    "#### Logistic Regression"
   ]
  },
  {
   "cell_type": "code",
   "execution_count": 11,
   "metadata": {},
   "outputs": [
    {
     "name": "stderr",
     "output_type": "stream",
     "text": [
      "/opt/anaconda3/lib/python3.9/site-packages/sklearn/feature_extraction/text.py:396: UserWarning: Your stop_words may be inconsistent with your preprocessing. Tokenizing the stop words generated tokens ['ha', 'le', 'u', 'wa'] not in stop_words.\n",
      "  warnings.warn(\n"
     ]
    },
    {
     "data": {
      "text/plain": [
       "(0.9997936868165875, 0.9603960396039604)"
      ]
     },
     "execution_count": 11,
     "metadata": {},
     "output_type": "execute_result"
    }
   ],
   "source": [
    "pipe = make_pipeline(CountVectorizer(strip_accents='unicode', stop_words='english', tokenizer=lemma_tokenizer, min_df=2, ngram_range=(1,2)),LogisticRegression(max_iter=10_000)) \n",
    "pipe.fit(X_train, y_train)\n",
    "pipe.score(X_train, y_train), pipe.score(X_test, y_test)"
   ]
  },
  {
   "cell_type": "markdown",
   "metadata": {},
   "source": [
    "Accuracy score of 96.04%. This beats the baseline accuracy rate. Model is performing ideally but slightly overfit"
   ]
  },
  {
   "cell_type": "code",
   "execution_count": 12,
   "metadata": {},
   "outputs": [
    {
     "data": {
      "text/plain": [
       "(array(['vegan'], dtype=object), array(['keto'], dtype=object))"
      ]
     },
     "execution_count": 12,
     "metadata": {},
     "output_type": "execute_result"
    }
   ],
   "source": [
    "pipe.predict([\"I know it may not seem like it but we love animals too\"]), pipe.predict([\"Healthy fats, quality protein, and just the right amount of carbs to keep you energized throughout the day\"])"
   ]
  },
  {
   "cell_type": "markdown",
   "metadata": {},
   "source": [
    "Model is able to classify the slogans between the correct classes"
   ]
  },
  {
   "cell_type": "code",
   "execution_count": 47,
   "metadata": {},
   "outputs": [
    {
     "data": {
      "text/plain": [
       "(array([[0.26468692, 0.73531308]]), array([[0.91911639, 0.08088361]]))"
      ]
     },
     "execution_count": 47,
     "metadata": {},
     "output_type": "execute_result"
    }
   ],
   "source": [
    "pipe.predict_proba([\"I know it may not seem like it but we love animals too\"]), pipe.predict_proba([\"Healthy fats, quality protein, and just the right amount of carbs to keep you energized throughout the day\"])"
   ]
  },
  {
   "cell_type": "markdown",
   "metadata": {},
   "source": [
    "- The vegan slogan is likely to get classified in the vegan class 73.53% of the time\n",
    "- The keto slogan is likely to get classified in the keto class 91.91% of the time "
   ]
  },
  {
   "cell_type": "code",
   "execution_count": 45,
   "metadata": {},
   "outputs": [
    {
     "data": {
      "image/png": "[encoded data removed]",
      "text/plain": [
       "<Figure size 432x288 with 2 Axes>"
      ]
     },
     "metadata": {
      "needs_background": "light"
     },
     "output_type": "display_data"
    }
   ],
   "source": [
    "ConfusionMatrixDisplay.from_estimator(pipe, X_test, y_test, cmap='Wistia', normalize='pred')\n",
    "plt.title('Probability of Outcomes')\n",
    "plt.savefig('figures/LogReg_Confusion.png'); "
   ]
  },
  {
   "cell_type": "markdown",
   "metadata": {},
   "source": [
    "- Positive class = vegan\n",
    "- Shows vegan is being slightly, more accurately predicted at 97% in comparison to keto at 96%\n",
    "- Keto and vegan incorrectly predicted 4.4% and 3.5%, respectively "
   ]
  },
  {
   "cell_type": "code",
   "execution_count": 38,
   "metadata": {},
   "outputs": [
    {
     "data": {
      "text/html": [
       "<div>\n",
       "<style scoped>\n",
       "    .dataframe tbody tr th:only-of-type {\n",
       "        vertical-align: middle;\n",
       "    }\n",
       "\n",
       "    .dataframe tbody tr th {\n",
       "        vertical-align: top;\n",
       "    }\n",
       "\n",
       "    .dataframe thead th {\n",
       "        text-align: right;\n",
       "    }\n",
       "</style>\n",
       "<table border=\"1\" class=\"dataframe\">\n",
       "  <thead>\n",
       "    <tr style=\"text-align: right;\">\n",
       "      <th></th>\n",
       "      <th>coefs</th>\n",
       "    </tr>\n",
       "    <tr>\n",
       "      <th>0</th>\n",
       "      <th></th>\n",
       "    </tr>\n",
       "  </thead>\n",
       "  <tbody>\n",
       "    <tr>\n",
       "      <th>vegan</th>\n",
       "      <td>25.607408</td>\n",
       "    </tr>\n",
       "    <tr>\n",
       "      <th>animal</th>\n",
       "      <td>3.945826</td>\n",
       "    </tr>\n",
       "    <tr>\n",
       "      <th>crossfit</th>\n",
       "      <td>2.976771</td>\n",
       "    </tr>\n",
       "    <tr>\n",
       "      <th>veganism</th>\n",
       "      <td>2.718524</td>\n",
       "    </tr>\n",
       "    <tr>\n",
       "      <th>tofu</th>\n",
       "      <td>2.351902</td>\n",
       "    </tr>\n",
       "    <tr>\n",
       "      <th>meat</th>\n",
       "      <td>2.161673</td>\n",
       "    </tr>\n",
       "    <tr>\n",
       "      <th>view</th>\n",
       "      <td>2.024771</td>\n",
       "    </tr>\n",
       "    <tr>\n",
       "      <th>poll ]</th>\n",
       "      <td>1.969024</td>\n",
       "    </tr>\n",
       "    <tr>\n",
       "      <th>industry</th>\n",
       "      <td>1.967286</td>\n",
       "    </tr>\n",
       "    <tr>\n",
       "      <th>view poll</th>\n",
       "      <td>1.964465</td>\n",
       "    </tr>\n",
       "    <tr>\n",
       "      <th>[ view</th>\n",
       "      <td>1.964465</td>\n",
       "    </tr>\n",
       "    <tr>\n",
       "      <th>poll</th>\n",
       "      <td>1.932522</td>\n",
       "    </tr>\n",
       "    <tr>\n",
       "      <th>video</th>\n",
       "      <td>1.911806</td>\n",
       "    </tr>\n",
       "    <tr>\n",
       "      <th>plant</th>\n",
       "      <td>1.752198</td>\n",
       "    </tr>\n",
       "    <tr>\n",
       "      <th>meat industry</th>\n",
       "      <td>1.742295</td>\n",
       "    </tr>\n",
       "  </tbody>\n",
       "</table>\n",
       "</div>"
      ],
      "text/plain": [
       "                   coefs\n",
       "0                       \n",
       "vegan          25.607408\n",
       "animal          3.945826\n",
       "crossfit        2.976771\n",
       "veganism        2.718524\n",
       "tofu            2.351902\n",
       "meat            2.161673\n",
       "view            2.024771\n",
       "poll ]          1.969024\n",
       "industry        1.967286\n",
       "view poll       1.964465\n",
       "[ view          1.964465\n",
       "poll            1.932522\n",
       "video           1.911806\n",
       "plant           1.752198\n",
       "meat industry   1.742295"
      ]
     },
     "execution_count": 38,
     "metadata": {},
     "output_type": "execute_result"
    }
   ],
   "source": [
    "coefs_vegan = pd.DataFrame(list(zip(pipe.named_steps['countvectorizer'].get_feature_names_out(), np.exp(pipe.named_steps['logisticregression'].coef_[0])))).set_index(0)\n",
    "coefs_vegan.rename(columns={1: 'coefs'}, inplace=True)\n",
    "coefs_vegan.sort_values(by='coefs',ascending=False)[:15]"
   ]
  },
  {
   "cell_type": "markdown",
   "metadata": {},
   "source": [
    "- These coefficients show how likely each of these features will be classified in the vegan (positive class) subreddit. \n",
    "- The coefficients listed show the features that are the most likely to appear in a vegan subreddit\n",
    "- Ex. For every instance of the word 'vegan', the title and post is 25.61 times as likely to appear in a vegan subreddit."
   ]
  },
  {
   "cell_type": "code",
   "execution_count": 33,
   "metadata": {},
   "outputs": [
    {
     "data": {
      "text/html": [
       "<div>\n",
       "<style scoped>\n",
       "    .dataframe tbody tr th:only-of-type {\n",
       "        vertical-align: middle;\n",
       "    }\n",
       "\n",
       "    .dataframe tbody tr th {\n",
       "        vertical-align: top;\n",
       "    }\n",
       "\n",
       "    .dataframe thead th {\n",
       "        text-align: right;\n",
       "    }\n",
       "</style>\n",
       "<table border=\"1\" class=\"dataframe\">\n",
       "  <thead>\n",
       "    <tr style=\"text-align: right;\">\n",
       "      <th></th>\n",
       "      <th>coefs</th>\n",
       "    </tr>\n",
       "    <tr>\n",
       "      <th>0</th>\n",
       "      <th></th>\n",
       "    </tr>\n",
       "  </thead>\n",
       "  <tbody>\n",
       "    <tr>\n",
       "      <th>keto</th>\n",
       "      <td>0.035338</td>\n",
       "    </tr>\n",
       "    <tr>\n",
       "      <th>carbs</th>\n",
       "      <td>0.274527</td>\n",
       "    </tr>\n",
       "    <tr>\n",
       "      <th>carb</th>\n",
       "      <td>0.293669</td>\n",
       "    </tr>\n",
       "    <tr>\n",
       "      <th>ketosis</th>\n",
       "      <td>0.413263</td>\n",
       "    </tr>\n",
       "    <tr>\n",
       "      <th>scale</th>\n",
       "      <td>0.486040</td>\n",
       "    </tr>\n",
       "    <tr>\n",
       "      <th>electrolyte</th>\n",
       "      <td>0.512094</td>\n",
       "    </tr>\n",
       "    <tr>\n",
       "      <th>macro</th>\n",
       "      <td>0.520337</td>\n",
       "    </tr>\n",
       "    <tr>\n",
       "      <th>weight</th>\n",
       "      <td>0.531218</td>\n",
       "    </tr>\n",
       "    <tr>\n",
       "      <th>sweetener</th>\n",
       "      <td>0.533541</td>\n",
       "    </tr>\n",
       "    <tr>\n",
       "      <th>fat</th>\n",
       "      <td>0.537667</td>\n",
       "    </tr>\n",
       "  </tbody>\n",
       "</table>\n",
       "</div>"
      ],
      "text/plain": [
       "                coefs\n",
       "0                    \n",
       "keto         0.035338\n",
       "carbs        0.274527\n",
       "carb         0.293669\n",
       "ketosis      0.413263\n",
       "scale        0.486040\n",
       "electrolyte  0.512094\n",
       "macro        0.520337\n",
       "weight       0.531218\n",
       "sweetener    0.533541\n",
       "fat          0.537667"
      ]
     },
     "execution_count": 33,
     "metadata": {},
     "output_type": "execute_result"
    }
   ],
   "source": [
    "coefs_keto = pd.DataFrame(list(zip(pipe.named_steps['countvectorizer'].get_feature_names_out(), np.exp(pipe.named_steps['logisticregression'].coef_[0])))).set_index(0)\n",
    "coefs_keto.rename(columns={1: 'coefs'},inplace=True)\n",
    "np.abs(coefs_keto).sort_values(by='coefs')[:10]"
   ]
  },
  {
   "cell_type": "markdown",
   "metadata": {},
   "source": [
    "- These coefficients show how likely each of these features will be classified in the vegan (positive class) subreddit. \n",
    "- The coefficients listed show the features that are the most likely to appear in a **keto** subreddit\n",
    "- Ex. For every instance of the word 'keto', the title and post is 3.53 times as likely to appear in a vegan subreddit and 96.47 times as likely to appear in a keto subreddit"
   ]
  },
  {
   "cell_type": "code",
   "execution_count": 17,
   "metadata": {},
   "outputs": [
    {
     "data": {
      "text/html": [
       "<div>\n",
       "<style scoped>\n",
       "    .dataframe tbody tr th:only-of-type {\n",
       "        vertical-align: middle;\n",
       "    }\n",
       "\n",
       "    .dataframe tbody tr th {\n",
       "        vertical-align: top;\n",
       "    }\n",
       "\n",
       "    .dataframe thead th {\n",
       "        text-align: right;\n",
       "    }\n",
       "</style>\n",
       "<table border=\"1\" class=\"dataframe\">\n",
       "  <thead>\n",
       "    <tr style=\"text-align: right;\">\n",
       "      <th></th>\n",
       "      <th>coefs</th>\n",
       "    </tr>\n",
       "    <tr>\n",
       "      <th>0</th>\n",
       "      <th></th>\n",
       "    </tr>\n",
       "  </thead>\n",
       "  <tbody>\n",
       "    <tr>\n",
       "      <th>vegan</th>\n",
       "      <td>24.607408</td>\n",
       "    </tr>\n",
       "    <tr>\n",
       "      <th>animal</th>\n",
       "      <td>2.945826</td>\n",
       "    </tr>\n",
       "    <tr>\n",
       "      <th>crossfit</th>\n",
       "      <td>1.976771</td>\n",
       "    </tr>\n",
       "    <tr>\n",
       "      <th>veganism</th>\n",
       "      <td>1.718524</td>\n",
       "    </tr>\n",
       "    <tr>\n",
       "      <th>tofu</th>\n",
       "      <td>1.351902</td>\n",
       "    </tr>\n",
       "    <tr>\n",
       "      <th>meat</th>\n",
       "      <td>1.161673</td>\n",
       "    </tr>\n",
       "    <tr>\n",
       "      <th>view</th>\n",
       "      <td>1.024771</td>\n",
       "    </tr>\n",
       "    <tr>\n",
       "      <th>poll ]</th>\n",
       "      <td>0.969024</td>\n",
       "    </tr>\n",
       "    <tr>\n",
       "      <th>industry</th>\n",
       "      <td>0.967286</td>\n",
       "    </tr>\n",
       "    <tr>\n",
       "      <th>keto</th>\n",
       "      <td>0.964662</td>\n",
       "    </tr>\n",
       "  </tbody>\n",
       "</table>\n",
       "</div>"
      ],
      "text/plain": [
       "              coefs\n",
       "0                  \n",
       "vegan     24.607408\n",
       "animal     2.945826\n",
       "crossfit   1.976771\n",
       "veganism   1.718524\n",
       "tofu       1.351902\n",
       "meat       1.161673\n",
       "view       1.024771\n",
       "poll ]     0.969024\n",
       "industry   0.967286\n",
       "keto       0.964662"
      ]
     },
     "execution_count": 17,
     "metadata": {},
     "output_type": "execute_result"
    }
   ],
   "source": [
    "coefs_total = pd.DataFrame(list(zip(pipe.named_steps['countvectorizer'].get_feature_names_out(), np.expm1(pipe.named_steps['logisticregression'].coef_[0])))).set_index(0)\n",
    "coefs_total.rename(columns={1: 'coefs'},inplace=True)\n",
    "np.abs(coefs_total).sort_values(by='coefs',ascending=False)[:10]"
   ]
  },
  {
   "cell_type": "markdown",
   "metadata": {},
   "source": [
    "These are the strongest coefficients overall. Although keto had a higher frequency in titles and posts, it was more likely for the model to classify text with vegan into the vegan (positive) class. "
   ]
  },
  {
   "cell_type": "markdown",
   "metadata": {},
   "source": [
    "#### Random Forest Classifier"
   ]
  },
  {
   "cell_type": "code",
   "execution_count": 18,
   "metadata": {},
   "outputs": [
    {
     "data": {
      "text/plain": [
       "(0.962657313802352, 0.948019801980198)"
      ]
     },
     "execution_count": 18,
     "metadata": {},
     "output_type": "execute_result"
    }
   ],
   "source": [
    "pipe2 = make_pipeline(CountVectorizer(strip_accents='unicode',stop_words='english', min_df=2),RandomForestClassifier(max_depth=10))\n",
    "pipe2.fit(X_train, y_train)\n",
    "pipe2.score(X_train, y_train), pipe2.score(X_test, y_test)"
   ]
  },
  {
   "cell_type": "markdown",
   "metadata": {},
   "source": [
    "Accuracy score of 94.37%. This beats the baseline accuracy rate. Model is performing ideally but slightly overfit"
   ]
  },
  {
   "cell_type": "code",
   "execution_count": 19,
   "metadata": {},
   "outputs": [
    {
     "data": {
      "text/plain": [
       "(array(['vegan'], dtype=object), array(['keto'], dtype=object))"
      ]
     },
     "execution_count": 19,
     "metadata": {},
     "output_type": "execute_result"
    }
   ],
   "source": [
    "pipe2.predict([\"I know it may not seem like it but we love animals too\"]), pipe2.predict([\"High fat, moderate protein, just the right amount of carbs to keep you energixed throughout the day\"])"
   ]
  },
  {
   "cell_type": "markdown",
   "metadata": {},
   "source": [
    "Model is able to classify the slogans between the correct classes"
   ]
  },
  {
   "cell_type": "code",
   "execution_count": 27,
   "metadata": {},
   "outputs": [
    {
     "data": {
      "text/plain": [
       "(array([[0.45299189, 0.54700811]]), array([[0.57427759, 0.42572241]]))"
      ]
     },
     "execution_count": 27,
     "metadata": {},
     "output_type": "execute_result"
    }
   ],
   "source": [
    "pipe2.predict_proba([\"I know it may not seem like it but we love animals too\"]), pipe2.predict_proba([\"Healthy fats, quality protein, and just the right amount of carbs to keep you energized throughout the day\"])"
   ]
  },
  {
   "cell_type": "markdown",
   "metadata": {},
   "source": [
    "- The vegan slogan is likely to get classified in the vegan class 54.70% of the time\n",
    "- The keto slogan is likely to get classified in the keto class 57.43% of the time "
   ]
  },
  {
   "cell_type": "code",
   "execution_count": 42,
   "metadata": {},
   "outputs": [
    {
     "data": {
      "image/png": "[encoded data removed]",
      "text/plain": [
       "<Figure size 432x288 with 2 Axes>"
      ]
     },
     "metadata": {
      "needs_background": "light"
     },
     "output_type": "display_data"
    }
   ],
   "source": [
    "ConfusionMatrixDisplay.from_estimator(pipe2,X_test, y_test, cmap='Blues', normalize='pred')\n",
    "plt.title('Probability of Outcomes')\n",
    "plt.savefig('figures/RandomForest_Confusion.png');"
   ]
  },
  {
   "cell_type": "markdown",
   "metadata": {},
   "source": [
    "- Positive class = vegan\n",
    "- Shows vegan is being more accurately predicted at 97% in comparison to keto at 93%\n",
    "- Keto and vegan incorrectly predicted 6.9% and 3.1%, respectively "
   ]
  },
  {
   "cell_type": "markdown",
   "metadata": {},
   "source": [
    "#### KNN"
   ]
  },
  {
   "cell_type": "code",
   "execution_count": 21,
   "metadata": {},
   "outputs": [
    {
     "name": "stderr",
     "output_type": "stream",
     "text": [
      "/opt/anaconda3/lib/python3.9/site-packages/sklearn/feature_extraction/text.py:396: UserWarning: Your stop_words may be inconsistent with your preprocessing. Tokenizing the stop words generated tokens ['ha', 'le', 'u', 'wa'] not in stop_words.\n",
      "  warnings.warn(\n"
     ]
    },
    {
     "data": {
      "text/plain": [
       "(0.8803383536207964, 0.817450495049505)"
      ]
     },
     "execution_count": 21,
     "metadata": {},
     "output_type": "execute_result"
    }
   ],
   "source": [
    "pipe3 = make_pipeline(CountVectorizer(strip_accents='unicode',stop_words='english',min_df=2, tokenizer=lemma_tokenizer),KNeighborsClassifier(n_neighbors=5))\n",
    "pipe3.fit(X_train, y_train)\n",
    "pipe3.score(X_train, y_train), pipe3.score(X_test, y_test)"
   ]
  },
  {
   "cell_type": "markdown",
   "metadata": {},
   "source": [
    "Accuracy score of 81.75%. This beats the baseline accuracy rate. Model is performing ideally but is inferior to the other models and classifiers; also overfit "
   ]
  },
  {
   "cell_type": "code",
   "execution_count": 22,
   "metadata": {
    "tags": []
   },
   "outputs": [
    {
     "data": {
      "text/plain": [
       "(array(['vegan'], dtype=object), array(['vegan'], dtype=object))"
      ]
     },
     "execution_count": 22,
     "metadata": {},
     "output_type": "execute_result"
    }
   ],
   "source": [
    "pipe3.predict([\"I know it may not seem like it but we love animals too\"]), pipe3.predict([\"High fat, moderate protein, just the right amount of carbs to keep you energixed throughout the day\"])"
   ]
  },
  {
   "cell_type": "markdown",
   "metadata": {},
   "source": [
    "Model is **not** able to classify the slogans between the correct classes"
   ]
  },
  {
   "cell_type": "code",
   "execution_count": 31,
   "metadata": {},
   "outputs": [
    {
     "data": {
      "text/plain": [
       "(array([[0.2, 0.8]]), array([[0.2, 0.8]]))"
      ]
     },
     "execution_count": 31,
     "metadata": {},
     "output_type": "execute_result"
    }
   ],
   "source": [
    "pipe3.predict_proba([\"I know it may not seem like it but we love animals too\"]), pipe3.predict_proba([\"Healthy fats, quality protein, and just the right amount of carbs to keep you energized throughout the day\"])"
   ]
  },
  {
   "cell_type": "markdown",
   "metadata": {},
   "source": [
    "- The vegan slogan is likely to get classified in the vegan class 80% of the time\n",
    "- The keto slogan is likely to get classified in the keto class 20% of the time "
   ]
  },
  {
   "cell_type": "code",
   "execution_count": 43,
   "metadata": {},
   "outputs": [
    {
     "data": {
      "image/png": "[encoded data removed]",
      "text/plain": [
       "<Figure size 432x288 with 2 Axes>"
      ]
     },
     "metadata": {
      "needs_background": "light"
     },
     "output_type": "display_data"
    }
   ],
   "source": [
    "ConfusionMatrixDisplay.from_estimator(pipe3,X_test, y_test, cmap='Greens',normalize='pred')\n",
    "plt.title('Probability of Outcomes')\n",
    "plt.savefig('figures/KNN_Confusion.png');"
   ]
  },
  {
   "cell_type": "markdown",
   "metadata": {},
   "source": [
    "- Positive class = vegan\n",
    "- Shows vegan is being slightly, more accurately predicted at 83% in comparison to keto at 81%\n",
    "- Keto and vegan incorrectly predicted 19% and 17%, respectively "
   ]
  },
  {
   "cell_type": "markdown",
   "metadata": {},
   "source": [
    "#### ADA BOOST"
   ]
  },
  {
   "cell_type": "code",
   "execution_count": 24,
   "metadata": {},
   "outputs": [
    {
     "name": "stderr",
     "output_type": "stream",
     "text": [
      "/opt/anaconda3/lib/python3.9/site-packages/sklearn/feature_extraction/text.py:396: UserWarning: Your stop_words may be inconsistent with your preprocessing. Tokenizing the stop words generated tokens ['ha', 'le', 'u', 'wa'] not in stop_words.\n",
      "  warnings.warn(\n"
     ]
    },
    {
     "data": {
      "text/plain": [
       "(0.9993810604497627, 0.9461633663366337)"
      ]
     },
     "execution_count": 24,
     "metadata": {},
     "output_type": "execute_result"
    }
   ],
   "source": [
    "pipe4 = make_pipeline(CountVectorizer(strip_accents='unicode',stop_words='english',min_df=2, tokenizer=lemma_tokenizer),AdaBoostClassifier(random_state=42, n_estimators=200))\n",
    "pipe4.fit(X_train, y_train)\n",
    "pipe4.score(X_train, y_train), pipe4.score(X_test, y_test)"
   ]
  },
  {
   "cell_type": "markdown",
   "metadata": {},
   "source": [
    "Accuracy score of 94.62%. This beats the baseline accuracy rate. Model is performing ideally but is slightly overfit"
   ]
  },
  {
   "cell_type": "code",
   "execution_count": 25,
   "metadata": {},
   "outputs": [
    {
     "data": {
      "text/plain": [
       "(array(['vegan'], dtype=object), array(['keto'], dtype=object))"
      ]
     },
     "execution_count": 25,
     "metadata": {},
     "output_type": "execute_result"
    }
   ],
   "source": [
    "pipe4.predict([\"I know it may not seem like it but we love animals too\"]), pipe4.predict([\"High fat, moderate protein, just the right amount of carbs to keep you energixed throughout the day\"])"
   ]
  },
  {
   "cell_type": "markdown",
   "metadata": {},
   "source": [
    "Model is able to classify the slogans between the correct classes"
   ]
  },
  {
   "cell_type": "code",
   "execution_count": 30,
   "metadata": {},
   "outputs": [
    {
     "data": {
      "text/plain": [
       "(array([[0.49617937, 0.50382063]]), array([[0.5105871, 0.4894129]]))"
      ]
     },
     "execution_count": 30,
     "metadata": {},
     "output_type": "execute_result"
    }
   ],
   "source": [
    "pipe4.predict_proba([\"I know it may not seem like it but we love animals too\"]), pipe4.predict_proba([\"Healthy fats, quality protein, and just the right amount of carbs to keep you energized throughout the day\"])"
   ]
  },
  {
   "cell_type": "markdown",
   "metadata": {},
   "source": [
    "- The vegan slogan is likely to get classified in the vegan class 50.38% of the time\n",
    "- The keto slogan is likely to get classified in the keto class 51.06% of the time "
   ]
  },
  {
   "cell_type": "code",
   "execution_count": 44,
   "metadata": {},
   "outputs": [
    {
     "data": {
      "image/png": "[encoded data removed]",
      "text/plain": [
       "<Figure size 432x288 with 2 Axes>"
      ]
     },
     "metadata": {
      "needs_background": "light"
     },
     "output_type": "display_data"
    }
   ],
   "source": [
    "ConfusionMatrixDisplay.from_estimator(pipe4,X_test, y_test, cmap='Purples', normalize='pred')\n",
    "plt.title('Probability of Outcomes')\n",
    "plt.savefig('figures/ADABoost_Confusion.png');"
   ]
  },
  {
   "cell_type": "markdown",
   "metadata": {},
   "source": [
    "- Positive class = vegan\n",
    "- Shows vegan is being slightly, more accurately predicted at 96% in comparison to keto at 94%\n",
    "- Keto and vegan incorrectly predicted 6.1% and 4.5%, respectively "
   ]
  },
  {
   "cell_type": "markdown",
   "metadata": {
    "tags": []
   },
   "source": [
    "# Conclusion and Recommendations\n",
    "\n",
    "Although there were a few models that performed successfuly, the CountVectorizer + Logistic Regression model produced the highest accuracy score of 96% with proper classification of the given slogans. HelloFrezh should utilize some of the top 10 features from this model that show a strong correlation with each class in their final marketing plan. Some of these words include keto, carbs, vegan, and animal. When developing further slogan,s they should test whether their slogan would classify with either keto or vegan subreddits to ensure the language aligns with the community. If they wish to improve the model, they can do further data cleaning such as removing urls or polls, use a RandomSearchCV or GridSearchCV to tune hyperparameters, and test other models such as Naive Bayes or create an ensemble. "
   ]
  }
 ],
 "metadata": {
  "kernelspec": {
   "display_name": "Python 3 (ipykernel)",
   "language": "python",
   "name": "python3"
  },
  "language_info": {
   "codemirror_mode": {
    "name": "ipython",
    "version": 3
   },
   "file_extension": ".py",
   "mimetype": "text/x-python",
   "name": "python",
   "nbconvert_exporter": "python",
   "pygments_lexer": "ipython3",
   "version": "3.9.7"
  }
 },
 "nbformat": 4,
 "nbformat_minor": 4
}
