{
 "cells": [
  {
   "cell_type": "markdown",
   "metadata": {},
   "source": [
    "<img src=\"http://imgur.com/1ZcRyrc.png\" style=\"float: left; margin: 20px; height: 55px\">\n",
    "\n",
    "# Project 3: Reddit"
   ]
  },
  {
   "cell_type": "markdown",
   "metadata": {
    "jp-MarkdownHeadingCollapsed": true,
    "tags": []
   },
   "source": [
    "# Contents:\n",
    "- [Problem Statement](#Problem-Statement)\n",
    "- [Background](#Background)\n",
    "- [Exploratory Data Analysis, Cleaning, and Feature Engineering](#EDA-and-Cleaning)"
   ]
  },
  {
   "cell_type": "markdown",
   "metadata": {},
   "source": [
    "# Problem Statement\n",
    "\n",
    "HelloFrezh is launching new food plans to cater to Keto and Vegan diets. They want to build a marketing plan and create a slogan that aligns with each diet community. We will explore the titles and posts from keto and vegan subreddits to determine what language is more likely to be used in each community and test if it is possible to get accurate classifications for each slogan before launching. Success will be defined by the accuracy score and proper classification of a given slogan."
   ]
  },
  {
   "cell_type": "markdown",
   "metadata": {},
   "source": [
    "# Background"
   ]
  },
  {
   "cell_type": "markdown",
   "metadata": {},
   "source": [
    "HelloFrezh is a meal delivery kit service that offers food plans for different lifestyles but now wants to target different diets, including ketogenic and vegan diets. Keto is a high fat, moderate protein, and low carbohydrate diet that forces the body to use fat as its main energy source instead of carbohydrates. Most people go on this diet for weight loss purposes but sometimes doctors prescribe it to children with epilepsy. Veganism is the practice of abstaining from all animal products including eggs and dairy. It is a plant based lifestyle and typically is followed for nutritional, religious, ethical, and/or environmental purpose. If you want to learn more about either diet, click [here](https://www.eatingwell.com/article/7874433/vegan-vs-keto-how-do-these-two-diets-compare/)."
   ]
  },
  {
   "cell_type": "code",
   "execution_count": 1,
   "metadata": {},
   "outputs": [],
   "source": [
    "import requests\n",
    "import pandas as pd\n",
    "import seaborn as sns\n",
    "import matplotlib.pyplot as plt\n",
    "import time\n",
    "import re\n",
    "from sklearn.feature_extraction.text import CountVectorizer"
   ]
  },
  {
   "cell_type": "code",
   "execution_count": 2,
   "metadata": {},
   "outputs": [
    {
     "name": "stdout",
     "output_type": "stream",
     "text": [
      "https://api.pushshift.io/reddit/search/submission/?subreddit=keto&metadata=true&size=0\n"
     ]
    },
    {
     "data": {
      "text/plain": [
       "'https://api.pushshift.io/reddit/search/submission/?subreddit=keto&metadata=true&size=0&is_self=true'"
      ]
     },
     "execution_count": 2,
     "metadata": {},
     "output_type": "execute_result"
    }
   ],
   "source": [
    "keto_url = 'https://api.pushshift.io/reddit/search/submission/?subreddit=keto'\n",
    "\n",
    "keto_posts = \"https://api.pushshift.io/reddit/search/submission/?subreddit=keto&metadata=true&size=0\"\n",
    "print(keto_posts)\n",
    "\n",
    "keto_text = \"https://api.pushshift.io/reddit/search/submission/?subreddit=keto&metadata=true&size=0&is_self=true\"\n",
    "keto_text"
   ]
  },
  {
   "cell_type": "markdown",
   "metadata": {},
   "source": [
    "**Above**: Keto has 34,8346 posts of which 32,8688 are text "
   ]
  },
  {
   "cell_type": "code",
   "execution_count": 3,
   "metadata": {},
   "outputs": [
    {
     "name": "stdout",
     "output_type": "stream",
     "text": [
      "https://api.pushshift.io/reddit/search/submission/?subreddit=vegan&metadata=true&size=0\n"
     ]
    },
    {
     "data": {
      "text/plain": [
       "'https://api.pushshift.io/reddit/search/submission/?subreddit=vegan&metadata=true&size=0&is_self=true'"
      ]
     },
     "execution_count": 3,
     "metadata": {},
     "output_type": "execute_result"
    }
   ],
   "source": [
    "vegan_url = 'https://api.pushshift.io/reddit/search/submission/?subreddit=vegan'\n",
    "\n",
    "vegan_posts = \"https://api.pushshift.io/reddit/search/submission/?subreddit=vegan&metadata=true&size=0\"\n",
    "print(vegan_posts)\n",
    "\n",
    "vegan_text = \"https://api.pushshift.io/reddit/search/submission/?subreddit=vegan&metadata=true&size=0&is_self=true\"\n",
    "vegan_text"
   ]
  },
  {
   "cell_type": "markdown",
   "metadata": {
    "tags": []
   },
   "source": [
    "**Above**: Vegan has 380,248 posts of which 164,565 are text "
   ]
  },
  {
   "cell_type": "markdown",
   "metadata": {},
   "source": [
    "# EDA and Cleaning"
   ]
  },
  {
   "cell_type": "markdown",
   "metadata": {},
   "source": [
    "## KETO "
   ]
  },
  {
   "cell_type": "code",
   "execution_count": 4,
   "metadata": {},
   "outputs": [
    {
     "data": {
      "text/plain": [
       "200"
      ]
     },
     "execution_count": 4,
     "metadata": {},
     "output_type": "execute_result"
    }
   ],
   "source": [
    "keto_params = {\n",
    "    'subreddit' : 'keto',\n",
    "    'size': 100,\n",
    "    'before': 1651016308\n",
    "}\n",
    "\n",
    "res1 = requests.get(keto_url + 'submission/', params = keto_params)\n",
    "res1.status_code"
   ]
  },
  {
   "cell_type": "code",
   "execution_count": 5,
   "metadata": {},
   "outputs": [],
   "source": [
    "data1 = res1.json()\n",
    "df1 = pd.DataFrame(data1['data'])\n",
    "df1['subreddit'] = 'keto'\n",
    "keto = df1[['subreddit','title','selftext', 'created_utc']]\n",
    "# keto.to_csv('data/keto.csv', index=False)"
   ]
  },
  {
   "cell_type": "code",
   "execution_count": 6,
   "metadata": {},
   "outputs": [],
   "source": [
    "# for i in range(60):\n",
    "#     keto = pd.read_csv('data/keto.csv')\n",
    "#     params = {'subreddit': 'keto', 'size': 100, 'before': keto['created_utc'].min()}\n",
    "#     res = requests.get(keto_url + 'submission/', params=params)\n",
    "#     if res.status_code == 200:\n",
    "#         keto_data1 = res.json()\n",
    "#         keto_data1 = pd.DataFrame(keto_data1['data'])\n",
    "#         keto_data1['subreddit'] = 'keto'\n",
    "#         keto_data1 = keto_data1[['subreddit','title','selftext', 'created_utc']]\n",
    "#         keto = pd.concat([keto,keto_data1])\n",
    "#         keto.to_csv('data/keto.csv', index=False)\n",
    "#     time.sleep(5)"
   ]
  },
  {
   "cell_type": "markdown",
   "metadata": {},
   "source": [
    "Created a for loop to gather data from keto subreddit. Ran the loop 60 times gathering 100 values at a time each collect the last 100 values."
   ]
  },
  {
   "cell_type": "code",
   "execution_count": 7,
   "metadata": {},
   "outputs": [],
   "source": [
    "keto = pd.read_csv('data/keto.csv')"
   ]
  },
  {
   "cell_type": "code",
   "execution_count": 8,
   "metadata": {},
   "outputs": [
    {
     "name": "stdout",
     "output_type": "stream",
     "text": [
      "<class 'pandas.core.frame.DataFrame'>\n",
      "RangeIndex: 6100 entries, 0 to 6099\n",
      "Data columns (total 4 columns):\n",
      " #   Column       Non-Null Count  Dtype \n",
      "---  ------       --------------  ----- \n",
      " 0   subreddit    6100 non-null   object\n",
      " 1   title        6100 non-null   object\n",
      " 2   selftext     6055 non-null   object\n",
      " 3   created_utc  6100 non-null   int64 \n",
      "dtypes: int64(1), object(3)\n",
      "memory usage: 190.8+ KB\n"
     ]
    }
   ],
   "source": [
    "keto.info()"
   ]
  },
  {
   "cell_type": "code",
   "execution_count": 9,
   "metadata": {},
   "outputs": [
    {
     "data": {
      "text/html": [
       "<div>\n",
       "<style scoped>\n",
       "    .dataframe tbody tr th:only-of-type {\n",
       "        vertical-align: middle;\n",
       "    }\n",
       "\n",
       "    .dataframe tbody tr th {\n",
       "        vertical-align: top;\n",
       "    }\n",
       "\n",
       "    .dataframe thead th {\n",
       "        text-align: right;\n",
       "    }\n",
       "</style>\n",
       "<table border=\"1\" class=\"dataframe\">\n",
       "  <thead>\n",
       "    <tr style=\"text-align: right;\">\n",
       "      <th></th>\n",
       "      <th>subreddit</th>\n",
       "      <th>title</th>\n",
       "      <th>selftext</th>\n",
       "      <th>created_utc</th>\n",
       "    </tr>\n",
       "  </thead>\n",
       "  <tbody>\n",
       "    <tr>\n",
       "      <th>2586</th>\n",
       "      <td>keto</td>\n",
       "      <td>Husband says I eat too much beef...</td>\n",
       "      <td>😂 and it's probably true. I absolutely love st...</td>\n",
       "      <td>1647200204</td>\n",
       "    </tr>\n",
       "    <tr>\n",
       "      <th>2425</th>\n",
       "      <td>keto</td>\n",
       "      <td>two weeks keto!</td>\n",
       "      <td>two weeks ago i decided to give keto a try in ...</td>\n",
       "      <td>1647439343</td>\n",
       "    </tr>\n",
       "    <tr>\n",
       "      <th>3989</th>\n",
       "      <td>keto</td>\n",
       "      <td>What if I eat low carb (max is 150g) but am no...</td>\n",
       "      <td>to anyone who has anyone done that did you fel...</td>\n",
       "      <td>1645200202</td>\n",
       "    </tr>\n",
       "    <tr>\n",
       "      <th>3686</th>\n",
       "      <td>keto</td>\n",
       "      <td>PSA: Kim Chi may be a possible solution to fee...</td>\n",
       "      <td>tl;dr: read the title. For further info, read ...</td>\n",
       "      <td>1645632526</td>\n",
       "    </tr>\n",
       "    <tr>\n",
       "      <th>2625</th>\n",
       "      <td>keto</td>\n",
       "      <td>i love eating fats.</td>\n",
       "      <td>the euphoria i feel after eating a meal high i...</td>\n",
       "      <td>1647146119</td>\n",
       "    </tr>\n",
       "  </tbody>\n",
       "</table>\n",
       "</div>"
      ],
      "text/plain": [
       "     subreddit                                              title  \\\n",
       "2586      keto                Husband says I eat too much beef...   \n",
       "2425      keto                                    two weeks keto!   \n",
       "3989      keto  What if I eat low carb (max is 150g) but am no...   \n",
       "3686      keto  PSA: Kim Chi may be a possible solution to fee...   \n",
       "2625      keto                                i love eating fats.   \n",
       "\n",
       "                                               selftext  created_utc  \n",
       "2586  😂 and it's probably true. I absolutely love st...   1647200204  \n",
       "2425  two weeks ago i decided to give keto a try in ...   1647439343  \n",
       "3989  to anyone who has anyone done that did you fel...   1645200202  \n",
       "3686  tl;dr: read the title. For further info, read ...   1645632526  \n",
       "2625  the euphoria i feel after eating a meal high i...   1647146119  "
      ]
     },
     "execution_count": 9,
     "metadata": {},
     "output_type": "execute_result"
    }
   ],
   "source": [
    "keto.sort_values(ascending=False, by='selftext').head()"
   ]
  },
  {
   "cell_type": "code",
   "execution_count": 10,
   "metadata": {},
   "outputs": [],
   "source": [
    "def remove_emojis(data):\n",
    "    emoj = re.compile(\"[\"\n",
    "        u\"\\U0001F600-\\U0001F64F\"  # emoticons\n",
    "        u\"\\U0001F300-\\U0001F5FF\"  # symbols & pictographs\n",
    "        u\"\\U0001F680-\\U0001F6FF\"  # transport & map symbols\n",
    "        u\"\\U0001F1E0-\\U0001F1FF\"  # flags (iOS)\n",
    "        u\"\\U00002500-\\U00002BEF\"  # chinese char\n",
    "        u\"\\U00002702-\\U000027B0\"\n",
    "        u\"\\U00002702-\\U000027B0\"\n",
    "        u\"\\U000024C2-\\U0001F251\"\n",
    "        u\"\\U0001f926-\\U0001f937\"\n",
    "        u\"\\U00010000-\\U0010ffff\"\n",
    "        u\"\\u2640-\\u2642\" \n",
    "        u\"\\u2600-\\u2B55\"\n",
    "        u\"\\u200d\"\n",
    "        u\"\\u23cf\"\n",
    "        u\"\\u23e9\"\n",
    "        u\"\\u231a\"\n",
    "        u\"\\ufe0f\"  # dingbats\n",
    "        u\"\\u3030\"\n",
    "                      \"]+\", re.UNICODE)\n",
    "    return re.sub(emoj, '', data)\n",
    "\n",
    "#from https://stackoverflow.com/questions/33404752/removing-emojis-from-a-string-in-python"
   ]
  },
  {
   "cell_type": "code",
   "execution_count": 11,
   "metadata": {},
   "outputs": [
    {
     "name": "stdout",
     "output_type": "stream",
     "text": [
      "<class 'pandas.core.frame.DataFrame'>\n",
      "Int64Index: 3550 entries, 1 to 6098\n",
      "Data columns (total 5 columns):\n",
      " #   Column       Non-Null Count  Dtype \n",
      "---  ------       --------------  ----- \n",
      " 0   subreddit    3550 non-null   object\n",
      " 1   title        3550 non-null   object\n",
      " 2   selftext     3550 non-null   object\n",
      " 3   created_utc  3550 non-null   int64 \n",
      " 4   title_posts  3550 non-null   object\n",
      "dtypes: int64(1), object(4)\n",
      "memory usage: 166.4+ KB\n"
     ]
    }
   ],
   "source": [
    "keto.dropna(subset=['selftext'],inplace=True)\n",
    "\n",
    "keto = keto[keto['selftext'] != '[removed]']\n",
    "keto.dropna(inplace=True)\n",
    "\n",
    "list_list1 = [a.split('\\n') for a in keto['title']]\n",
    "list_string1 = [''.join(b) for b in list_list1]\n",
    "keto['title'] = list_string1\n",
    "\n",
    "list_list2 = [c.split('\\n') for c in keto['selftext']]\n",
    "list_string2 = [''.join(d) for d in list_list2]\n",
    "keto['selftext'] = list_string2\n",
    "\n",
    "emoji_list1 = [remove_emojis(i) for i in keto['title']]\n",
    "keto['title'] = emoji_list1\n",
    "\n",
    "emoji_list2 = [remove_emojis(j) for j in keto['selftext']]\n",
    "keto['selftext'] = emoji_list2\n",
    "\n",
    "keto['title_posts'] = keto['title'] + keto['selftext']\n",
    "\n",
    "keto.info()"
   ]
  },
  {
   "cell_type": "markdown",
   "metadata": {},
   "source": [
    "**Cleaned data by dropping null values from selftext column, deleting posts that were marked as removed, separating conjoined lines, removing emojis, and feature engineered a column that combined titles and posts which reduced DataFrame to 3,550 entries**"
   ]
  },
  {
   "cell_type": "markdown",
   "metadata": {
    "tags": []
   },
   "source": [
    "#### Top 25 Common Words in Keto Titles"
   ]
  },
  {
   "cell_type": "code",
   "execution_count": 12,
   "metadata": {},
   "outputs": [
    {
     "data": {
      "text/plain": [
       "Index(['keto', 'weight', 'diet', 'carbs', 'help', 'fat', '2022', 'question',\n",
       "       'carb', 'low', 'ketosis', 'does', 'eating', 'amp', 'need', 'loss',\n",
       "       'keto diet', 'protein', 'eat', 'meal', 'food', 'blood', 'day', 'week',\n",
       "       'sugar'],\n",
       "      dtype='object')"
      ]
     },
     "execution_count": 12,
     "metadata": {},
     "output_type": "execute_result"
    }
   ],
   "source": [
    "cv_keto = CountVectorizer(stop_words='english', ngram_range=(1,2), strip_accents='unicode', min_df=3)\n",
    "cv_keto_title = cv_keto.fit_transform(keto['title'])\n",
    "cv_keto_titles = pd.DataFrame(cv_keto_title.toarray(),columns=cv_keto.get_feature_names_out())\n",
    "top25_keto_titles = cv_keto_titles.sum().sort_values(ascending=False).head(25)\n",
    "top25_keto_titles.index"
   ]
  },
  {
   "cell_type": "code",
   "execution_count": 13,
   "metadata": {},
   "outputs": [
    {
     "data": {
      "image/png": "[encoded data removed]",
      "text/plain": [
       "<Figure size 720x360 with 1 Axes>"
      ]
     },
     "metadata": {
      "needs_background": "light"
     },
     "output_type": "display_data"
    }
   ],
   "source": [
    "plt.figure(figsize=(10,5))\n",
    "top25_keto_titles.plot.bar()\n",
    "plt.xlabel('Common Words')\n",
    "plt.xticks(rotation=50)\n",
    "plt.ylabel('Frequency')\n",
    "plt.title('Top 25 Common Words in Keto Titles')\n",
    "plt.savefig('figures/Top_25_Keto_Titles.png');"
   ]
  },
  {
   "cell_type": "markdown",
   "metadata": {},
   "source": [
    "**Interpretation**: Keto is the most used word in the titles in the keto subreddit"
   ]
  },
  {
   "cell_type": "markdown",
   "metadata": {},
   "source": [
    "#### Top 25 Common Words in Keto Posts"
   ]
  },
  {
   "cell_type": "code",
   "execution_count": 14,
   "metadata": {},
   "outputs": [
    {
     "data": {
      "text/plain": [
       "Index(['keto', 'just', 've', 'weight', 'like', 'day', 'carbs', 'diet', 'eat',\n",
       "       'time', 'eating', 'fat', 'don', 'feel', 'know', 'week', 'started',\n",
       "       'really', 'doing', 'days', 'carb', 'want', 'good', 'lost', 'low'],\n",
       "      dtype='object')"
      ]
     },
     "execution_count": 14,
     "metadata": {},
     "output_type": "execute_result"
    }
   ],
   "source": [
    "cv_keto_post = cv_keto.fit_transform(keto['selftext'])\n",
    "cv_keto_posts = pd.DataFrame(cv_keto_post.toarray(),columns=cv_keto.get_feature_names_out())\n",
    "top25_keto_posts = cv_keto_posts.sum().sort_values(ascending=False).head(25)\n",
    "top25_keto_posts.index"
   ]
  },
  {
   "cell_type": "code",
   "execution_count": 15,
   "metadata": {
    "tags": []
   },
   "outputs": [
    {
     "data": {
      "image/png": "[encoded data removed]",
      "text/plain": [
       "<Figure size 720x360 with 1 Axes>"
      ]
     },
     "metadata": {
      "needs_background": "light"
     },
     "output_type": "display_data"
    }
   ],
   "source": [
    "plt.figure(figsize=(10,5))\n",
    "top25_keto_posts.plot.bar()\n",
    "plt.xlabel('Common Words')\n",
    "plt.xticks(rotation=50)\n",
    "plt.ylabel('Frequency')\n",
    "plt.title('Top 25 Common Words in Keto Posts')\n",
    "plt.savefig('figures/Top_25_Keto_Posts.png');"
   ]
  },
  {
   "cell_type": "markdown",
   "metadata": {},
   "source": [
    "**Interpretation**: Keto is the most used word in the posts in the keto subreddit"
   ]
  },
  {
   "cell_type": "markdown",
   "metadata": {},
   "source": [
    "#### Top 25 Common Words between Keto Posts and Titles"
   ]
  },
  {
   "cell_type": "code",
   "execution_count": 16,
   "metadata": {},
   "outputs": [
    {
     "data": {
      "text/plain": [
       "Index(['keto', 'just', 've', 'weight', 'like', 'carbs', 'day', 'diet', 'eat',\n",
       "       'eating', 'time', 'fat', 'don', 'feel', 'know', 'week', 'doing',\n",
       "       'really', 'carb', 'started', 'days', 'want', 'low', 'good', 'lost'],\n",
       "      dtype='object')"
      ]
     },
     "execution_count": 16,
     "metadata": {},
     "output_type": "execute_result"
    }
   ],
   "source": [
    "cv_keto_title_posts = cv_keto.fit_transform(keto['title_posts'])\n",
    "cv_keto_title_posts = pd.DataFrame(cv_keto_title_posts.toarray(),columns=cv_keto.get_feature_names_out())\n",
    "top25_keto_titles_posts = cv_keto_title_posts.sum().sort_values(ascending=False).head(25)\n",
    "top25_keto_titles_posts.index"
   ]
  },
  {
   "cell_type": "code",
   "execution_count": 17,
   "metadata": {},
   "outputs": [
    {
     "data": {
      "image/png": "[encoded data removed]",
      "text/plain": [
       "<Figure size 720x360 with 1 Axes>"
      ]
     },
     "metadata": {
      "needs_background": "light"
     },
     "output_type": "display_data"
    }
   ],
   "source": [
    "plt.figure(figsize=(10,5))\n",
    "top25_keto_titles_posts.plot.bar()\n",
    "plt.xlabel('Common Words')\n",
    "plt.xticks(rotation=50)\n",
    "plt.ylabel('Frequency')\n",
    "plt.title('Top 25 Common Words between Keto Posts and Titles')\n",
    "plt.savefig('figures/Top_25_Keto_Posts_Titles.png');"
   ]
  },
  {
   "cell_type": "markdown",
   "metadata": {},
   "source": [
    "**Interpretation**: Keto is the most used word between the titles and posts in the keto subreddit"
   ]
  },
  {
   "cell_type": "markdown",
   "metadata": {},
   "source": [
    "## VEGAN"
   ]
  },
  {
   "cell_type": "code",
   "execution_count": 18,
   "metadata": {},
   "outputs": [
    {
     "data": {
      "text/plain": [
       "200"
      ]
     },
     "execution_count": 18,
     "metadata": {},
     "output_type": "execute_result"
    }
   ],
   "source": [
    "vegan_params = {\n",
    "    'subreddit' : 'crossfit',\n",
    "    'size': 100\n",
    "}\n",
    "\n",
    "res2 = requests.get(vegan_url + 'submission/', params = vegan_params)\n",
    "res2.status_code"
   ]
  },
  {
   "cell_type": "code",
   "execution_count": 19,
   "metadata": {},
   "outputs": [],
   "source": [
    "data2 = res2.json()\n",
    "df2 = pd.DataFrame(data2['data'])\n",
    "df2['subreddit'] = 'vegan'\n",
    "vegan = df2[['subreddit','title','selftext', 'created_utc']]\n",
    "# vegan.to_csv('data/vegan.csv', index=False)"
   ]
  },
  {
   "cell_type": "code",
   "execution_count": 20,
   "metadata": {},
   "outputs": [],
   "source": [
    "# for i in range(120):\n",
    "#     vegan = pd.read_csv('data/vegan.csv')\n",
    "#     params = {'subreddit': 'vegan', 'size': 100, 'before': vegan['created_utc'].min()}\n",
    "#     res = requests.get(vegan_url + 'submission/', params=params)\n",
    "#     if res.status_code == 200:\n",
    "#         vegan_data1 = res.json()\n",
    "#         vegan_data1 = pd.DataFrame(vegan_data1['data'])\n",
    "#         vegan_data1['subreddit'] = 'vegan'\n",
    "#         vegan_data1 = vegan_data1[['subreddit','title','selftext', 'created_utc']]\n",
    "#         vegan = pd.concat([vegan,vegan_data1])\n",
    "#         vegan.to_csv('data/vegan.csv', index=False)\n",
    "#     time.sleep(5)"
   ]
  },
  {
   "cell_type": "markdown",
   "metadata": {},
   "source": [
    "Created a for loop to gather data from keto subreddit. Ran the loop 120 times gathering 100 values at a time each collect the last 100 values. I ran this twice as much as the keto subreddit because there were more subreddits removed."
   ]
  },
  {
   "cell_type": "code",
   "execution_count": 21,
   "metadata": {},
   "outputs": [],
   "source": [
    "vegan = pd.read_csv('data/vegan.csv')"
   ]
  },
  {
   "cell_type": "code",
   "execution_count": 22,
   "metadata": {},
   "outputs": [
    {
     "name": "stdout",
     "output_type": "stream",
     "text": [
      "<class 'pandas.core.frame.DataFrame'>\n",
      "RangeIndex: 12096 entries, 0 to 12095\n",
      "Data columns (total 4 columns):\n",
      " #   Column       Non-Null Count  Dtype \n",
      "---  ------       --------------  ----- \n",
      " 0   subreddit    12096 non-null  object\n",
      " 1   title        12096 non-null  object\n",
      " 2   selftext     6193 non-null   object\n",
      " 3   created_utc  12096 non-null  int64 \n",
      "dtypes: int64(1), object(3)\n",
      "memory usage: 378.1+ KB\n"
     ]
    }
   ],
   "source": [
    "vegan.info()"
   ]
  },
  {
   "cell_type": "code",
   "execution_count": 23,
   "metadata": {},
   "outputs": [
    {
     "data": {
      "text/html": [
       "<div>\n",
       "<style scoped>\n",
       "    .dataframe tbody tr th:only-of-type {\n",
       "        vertical-align: middle;\n",
       "    }\n",
       "\n",
       "    .dataframe tbody tr th {\n",
       "        vertical-align: top;\n",
       "    }\n",
       "\n",
       "    .dataframe thead th {\n",
       "        text-align: right;\n",
       "    }\n",
       "</style>\n",
       "<table border=\"1\" class=\"dataframe\">\n",
       "  <thead>\n",
       "    <tr style=\"text-align: right;\">\n",
       "      <th></th>\n",
       "      <th>subreddit</th>\n",
       "      <th>title</th>\n",
       "      <th>selftext</th>\n",
       "      <th>created_utc</th>\n",
       "    </tr>\n",
       "  </thead>\n",
       "  <tbody>\n",
       "    <tr>\n",
       "      <th>9455</th>\n",
       "      <td>vegan</td>\n",
       "      <td>Can you help us improve our solution to food w...</td>\n",
       "      <td>💥 Hello everyone, we are three young Italians ...</td>\n",
       "      <td>1644581722</td>\n",
       "    </tr>\n",
       "    <tr>\n",
       "      <th>10814</th>\n",
       "      <td>vegan</td>\n",
       "      <td>I'm a VERY picky pescetarian who would like to...</td>\n",
       "      <td>👋 Hello!! I've been a pescetarian for about 8i...</td>\n",
       "      <td>1643748662</td>\n",
       "    </tr>\n",
       "    <tr>\n",
       "      <th>3893</th>\n",
       "      <td>vegan</td>\n",
       "      <td>荷爾德林</td>\n",
       "      <td>而海德格爾說，荷爾德林是“詩人的詩人”。他們倆之間的惺惺相惜，給了我們這一代人，一些“語言上...</td>\n",
       "      <td>1648367549</td>\n",
       "    </tr>\n",
       "    <tr>\n",
       "      <th>7876</th>\n",
       "      <td>vegan</td>\n",
       "      <td>what age were you when you realized you could ...</td>\n",
       "      <td>…i genuinely wish i had people around me who *...</td>\n",
       "      <td>1645567912</td>\n",
       "    </tr>\n",
       "    <tr>\n",
       "      <th>10021</th>\n",
       "      <td>vegan</td>\n",
       "      <td>is Erin Janus okay?</td>\n",
       "      <td>you may know her from her dairy is scary video...</td>\n",
       "      <td>1644253046</td>\n",
       "    </tr>\n",
       "  </tbody>\n",
       "</table>\n",
       "</div>"
      ],
      "text/plain": [
       "      subreddit                                              title  \\\n",
       "9455      vegan  Can you help us improve our solution to food w...   \n",
       "10814     vegan  I'm a VERY picky pescetarian who would like to...   \n",
       "3893      vegan                                               荷爾德林   \n",
       "7876      vegan  what age were you when you realized you could ...   \n",
       "10021     vegan                                is Erin Janus okay?   \n",
       "\n",
       "                                                selftext  created_utc  \n",
       "9455   💥 Hello everyone, we are three young Italians ...   1644581722  \n",
       "10814  👋 Hello!! I've been a pescetarian for about 8i...   1643748662  \n",
       "3893   而海德格爾說，荷爾德林是“詩人的詩人”。他們倆之間的惺惺相惜，給了我們這一代人，一些“語言上...   1648367549  \n",
       "7876   …i genuinely wish i had people around me who *...   1645567912  \n",
       "10021  you may know her from her dairy is scary video...   1644253046  "
      ]
     },
     "execution_count": 23,
     "metadata": {},
     "output_type": "execute_result"
    }
   ],
   "source": [
    "vegan.sort_values(ascending=False, by='selftext').head()"
   ]
  },
  {
   "cell_type": "code",
   "execution_count": 24,
   "metadata": {},
   "outputs": [
    {
     "name": "stdout",
     "output_type": "stream",
     "text": [
      "<class 'pandas.core.frame.DataFrame'>\n",
      "Int64Index: 3170 entries, 1 to 12095\n",
      "Data columns (total 5 columns):\n",
      " #   Column       Non-Null Count  Dtype \n",
      "---  ------       --------------  ----- \n",
      " 0   subreddit    3170 non-null   object\n",
      " 1   title        3170 non-null   object\n",
      " 2   selftext     3170 non-null   object\n",
      " 3   created_utc  3170 non-null   int64 \n",
      " 4   title_posts  3170 non-null   object\n",
      "dtypes: int64(1), object(4)\n",
      "memory usage: 148.6+ KB\n"
     ]
    }
   ],
   "source": [
    "vegan = vegan[vegan['selftext'] != '[removed]']\n",
    "vegan.dropna(inplace=True)\n",
    "\n",
    "list_list3 = [e.split('\\n') for e in vegan['title']]\n",
    "list_string3 = [''.join(f) for f in list_list3]\n",
    "vegan['title'] = list_string3\n",
    "\n",
    "list_list4 = [g.split('\\n') for g in vegan['selftext']]\n",
    "list_string4 = [''.join(h) for h in list_list4]\n",
    "vegan['selftext'] = list_string4\n",
    "\n",
    "emoji_list3 = [remove_emojis(x) for x in vegan['title']]\n",
    "vegan['title'] = emoji_list3\n",
    "\n",
    "emoji_list4 = [remove_emojis(y) for y in vegan['selftext']]\n",
    "vegan['selftext'] = emoji_list4\n",
    "\n",
    "vegan['title_posts'] =  vegan['title'] +  vegan['selftext']\n",
    "    \n",
    "vegan.info()"
   ]
  },
  {
   "cell_type": "markdown",
   "metadata": {},
   "source": [
    "**Cleaned data by dropping null values from selftext column, deleting posts that were marked as removed, separating conjoined lines, removing emojis, and feature engineered a column that combined titles and posts which reduced DataFrame to 3,170 entries**"
   ]
  },
  {
   "cell_type": "markdown",
   "metadata": {},
   "source": [
    "#### Top 25 Common Words in Vegan Titles"
   ]
  },
  {
   "cell_type": "code",
   "execution_count": 25,
   "metadata": {},
   "outputs": [
    {
     "data": {
      "text/plain": [
       "Index(['vegan', 'meat', 'veganism', 'vegans', 'animal', 'help', 'people',\n",
       "       'food', 'just', 'need', 'non', 'eat', 'like', 'animals', 'eating',\n",
       "       'does', 'diet', 'question', 'going', 'good', 'feel', 'think', 'milk',\n",
       "       'new', 'products'],\n",
       "      dtype='object')"
      ]
     },
     "execution_count": 25,
     "metadata": {},
     "output_type": "execute_result"
    }
   ],
   "source": [
    "cv_vegan = CountVectorizer(stop_words='english', ngram_range=(1,1), strip_accents='unicode', min_df=5)\n",
    "cv_vegan_title = cv_vegan.fit_transform(vegan['title'])\n",
    "cv_vegan_titles = pd.DataFrame(cv_vegan_title.toarray(),columns=cv_vegan.get_feature_names_out())\n",
    "top25_vegan_titles = cv_vegan_titles.sum().sort_values(ascending=False).head(25)\n",
    "top25_vegan_titles.index"
   ]
  },
  {
   "cell_type": "code",
   "execution_count": 26,
   "metadata": {},
   "outputs": [
    {
     "data": {
      "image/png": "[encoded data removed]",
      "text/plain": [
       "<Figure size 720x360 with 1 Axes>"
      ]
     },
     "metadata": {
      "needs_background": "light"
     },
     "output_type": "display_data"
    }
   ],
   "source": [
    "plt.figure(figsize=(10,5))\n",
    "top25_vegan_titles.plot.bar()\n",
    "plt.xlabel('Common Words')\n",
    "plt.xticks(rotation=50)\n",
    "plt.ylabel('Frequency')\n",
    "plt.title('Top 25 Common Words in Vegan Titles')\n",
    "plt.savefig('figures/Top_25_Vegan_Titles.png');"
   ]
  },
  {
   "cell_type": "markdown",
   "metadata": {},
   "source": [
    "**Interpretation**: Vegan is the most used word in the titles in the vegan subreddit"
   ]
  },
  {
   "cell_type": "markdown",
   "metadata": {},
   "source": [
    "#### Top 25 Common Words in Vegan Posts"
   ]
  },
  {
   "cell_type": "code",
   "execution_count": 27,
   "metadata": {},
   "outputs": [
    {
     "data": {
      "text/plain": [
       "Index(['vegan', 'just', 'like', 'don', 've', 'meat', 'people', 'know', 'https',\n",
       "       'eat', 'animal', 'animals', 'food', 'really', 'want', 'com', 'think',\n",
       "       'feel', 'make', 'amp', 'eating', 'time', 'www', 'good', 'veganism'],\n",
       "      dtype='object')"
      ]
     },
     "execution_count": 27,
     "metadata": {},
     "output_type": "execute_result"
    }
   ],
   "source": [
    "cv_vegan_post = cv_vegan.fit_transform(vegan['selftext'])\n",
    "cv_vegan_posts = pd.DataFrame(cv_vegan_post.toarray(),columns=cv_vegan.get_feature_names_out())\n",
    "top25_vegan_posts = cv_vegan_posts.sum().sort_values(ascending=False).head(25)\n",
    "top25_vegan_posts.index"
   ]
  },
  {
   "cell_type": "code",
   "execution_count": 28,
   "metadata": {},
   "outputs": [
    {
     "data": {
      "image/png": "[encoded data removed]",
      "text/plain": [
       "<Figure size 720x360 with 1 Axes>"
      ]
     },
     "metadata": {
      "needs_background": "light"
     },
     "output_type": "display_data"
    }
   ],
   "source": [
    "plt.figure(figsize=(10,5))\n",
    "top25_vegan_posts.plot.bar()\n",
    "plt.xlabel('Common Words')\n",
    "plt.xticks(rotation=50)\n",
    "plt.ylabel('Frequency')\n",
    "plt.title('Top 25 Common Words in Vegan Posts')\n",
    "plt.savefig('figures/Top_25_Vegan_Posts.png');"
   ]
  },
  {
   "cell_type": "markdown",
   "metadata": {},
   "source": [
    "**Interpretation**: Vegan is the most used word in the posts in the vegan subreddit"
   ]
  },
  {
   "cell_type": "markdown",
   "metadata": {},
   "source": [
    "#### Top 25 Common Words between Vegan Posts and Titles"
   ]
  },
  {
   "cell_type": "code",
   "execution_count": 29,
   "metadata": {},
   "outputs": [
    {
     "data": {
      "text/plain": [
       "Index(['vegan', 'just', 'like', 'don', 'meat', 've', 'people', 'know',\n",
       "       'animal', 'eat', 'animals', 'https', 'food', 'really', 'want', 'think',\n",
       "       'feel', 'com', 'eating', 'make', 'amp', 'time', 'veganism', 'good',\n",
       "       'vegans'],\n",
       "      dtype='object')"
      ]
     },
     "execution_count": 29,
     "metadata": {},
     "output_type": "execute_result"
    }
   ],
   "source": [
    "cv_vegan_post_titles = cv_vegan.fit_transform(vegan['title_posts'])\n",
    "cv_vegan_posts_titles = pd.DataFrame(cv_vegan_post_titles.toarray(),columns=cv_vegan.get_feature_names_out())\n",
    "top25_vegan_posts_titles = cv_vegan_posts_titles.sum().sort_values(ascending=False).head(25)\n",
    "top25_vegan_posts_titles.index"
   ]
  },
  {
   "cell_type": "code",
   "execution_count": 30,
   "metadata": {},
   "outputs": [
    {
     "data": {
      "image/png": "[encoded data removed]",
      "text/plain": [
       "<Figure size 720x360 with 1 Axes>"
      ]
     },
     "metadata": {
      "needs_background": "light"
     },
     "output_type": "display_data"
    }
   ],
   "source": [
    "plt.figure(figsize=(10,5))\n",
    "top25_vegan_posts_titles.plot.bar()\n",
    "plt.xlabel('Common Words')\n",
    "plt.xticks(rotation=50)\n",
    "plt.ylabel('Frequency')\n",
    "plt.title('Top 25 Common Words between Vegan Posts and Titles')\n",
    "plt.savefig('figures/Top_25_Vegan_Posts_Titles.png');"
   ]
  },
  {
   "cell_type": "markdown",
   "metadata": {},
   "source": [
    "**Interpretation**: Vegan is the most used word between the titles and posts in the vegan subreddit"
   ]
  },
  {
   "cell_type": "markdown",
   "metadata": {},
   "source": [
    "## KETO AND VEGAN COMBINED"
   ]
  },
  {
   "cell_type": "code",
   "execution_count": 31,
   "metadata": {},
   "outputs": [],
   "source": [
    "keto_vegan = pd.concat([keto,vegan])"
   ]
  },
  {
   "cell_type": "code",
   "execution_count": 32,
   "metadata": {},
   "outputs": [],
   "source": [
    "keto_vegan['title_length'] = [len(i) for i in keto_vegan['title']]"
   ]
  },
  {
   "cell_type": "code",
   "execution_count": 33,
   "metadata": {},
   "outputs": [],
   "source": [
    "keto_vegan['post_length'] = [len(i) for i in keto_vegan['selftext']]"
   ]
  },
  {
   "cell_type": "markdown",
   "metadata": {},
   "source": [
    "**Combined keto and vegan dataframes and featured engineered columns to explore the different lengths of titles and posts between the classes**"
   ]
  },
  {
   "cell_type": "code",
   "execution_count": 34,
   "metadata": {
    "tags": []
   },
   "outputs": [
    {
     "data": {
      "image/png": "[encoded data removed]",
      "text/plain": [
       "<Figure size 2160x720 with 1 Axes>"
      ]
     },
     "metadata": {
      "needs_background": "light"
     },
     "output_type": "display_data"
    }
   ],
   "source": [
    "sns.displot(keto_vegan['title_length'], height=10, aspect=3)\n",
    "plt.title('Length of Titles');"
   ]
  },
  {
   "cell_type": "markdown",
   "metadata": {},
   "source": [
    "****Interpretation****: Right skewed. Outliers shown above 175 characters"
   ]
  },
  {
   "cell_type": "code",
   "execution_count": 35,
   "metadata": {
    "tags": []
   },
   "outputs": [
    {
     "data": {
      "image/png": "[encoded data removed]",
      "text/plain": [
       "<Figure size 2160x720 with 1 Axes>"
      ]
     },
     "metadata": {
      "needs_background": "light"
     },
     "output_type": "display_data"
    }
   ],
   "source": [
    "sns.displot(keto_vegan['post_length'], height=10, aspect=3)\n",
    "plt.title('Length of Posts');"
   ]
  },
  {
   "cell_type": "markdown",
   "metadata": {},
   "source": [
    "**Interpretation**: Right skewed. Outliers shown above 2,500 characters"
   ]
  },
  {
   "cell_type": "code",
   "execution_count": 36,
   "metadata": {
    "tags": []
   },
   "outputs": [],
   "source": [
    "keto_vegan.drop(keto_vegan[keto_vegan['title_length'] > 175].index, inplace=True)\n",
    "keto_vegan.drop(keto_vegan[keto_vegan['post_length'] > 2_500].index, inplace=True)"
   ]
  },
  {
   "cell_type": "markdown",
   "metadata": {},
   "source": [
    "**Cleaned data of outliers shown in distribution plots above.**"
   ]
  },
  {
   "cell_type": "code",
   "execution_count": 37,
   "metadata": {
    "tags": []
   },
   "outputs": [
    {
     "data": {
      "text/html": [
       "<div>\n",
       "<style scoped>\n",
       "    .dataframe tbody tr th:only-of-type {\n",
       "        vertical-align: middle;\n",
       "    }\n",
       "\n",
       "    .dataframe tbody tr th {\n",
       "        vertical-align: top;\n",
       "    }\n",
       "\n",
       "    .dataframe thead th {\n",
       "        text-align: right;\n",
       "    }\n",
       "</style>\n",
       "<table border=\"1\" class=\"dataframe\">\n",
       "  <thead>\n",
       "    <tr style=\"text-align: right;\">\n",
       "      <th></th>\n",
       "      <th>created_utc</th>\n",
       "      <th>title_length</th>\n",
       "      <th>post_length</th>\n",
       "    </tr>\n",
       "  </thead>\n",
       "  <tbody>\n",
       "    <tr>\n",
       "      <th>count</th>\n",
       "      <td>6.467000e+03</td>\n",
       "      <td>6467.000000</td>\n",
       "      <td>6467.000000</td>\n",
       "    </tr>\n",
       "    <tr>\n",
       "      <th>mean</th>\n",
       "      <td>1.646790e+09</td>\n",
       "      <td>42.657337</td>\n",
       "      <td>669.241843</td>\n",
       "    </tr>\n",
       "    <tr>\n",
       "      <th>std</th>\n",
       "      <td>2.451901e+06</td>\n",
       "      <td>26.472960</td>\n",
       "      <td>437.489055</td>\n",
       "    </tr>\n",
       "    <tr>\n",
       "      <th>min</th>\n",
       "      <td>1.642424e+09</td>\n",
       "      <td>0.000000</td>\n",
       "      <td>9.000000</td>\n",
       "    </tr>\n",
       "    <tr>\n",
       "      <th>25%</th>\n",
       "      <td>1.644599e+09</td>\n",
       "      <td>24.000000</td>\n",
       "      <td>362.000000</td>\n",
       "    </tr>\n",
       "    <tr>\n",
       "      <th>50%</th>\n",
       "      <td>1.646824e+09</td>\n",
       "      <td>37.000000</td>\n",
       "      <td>546.000000</td>\n",
       "    </tr>\n",
       "    <tr>\n",
       "      <th>75%</th>\n",
       "      <td>1.648920e+09</td>\n",
       "      <td>55.000000</td>\n",
       "      <td>842.500000</td>\n",
       "    </tr>\n",
       "    <tr>\n",
       "      <th>max</th>\n",
       "      <td>1.651178e+09</td>\n",
       "      <td>174.000000</td>\n",
       "      <td>2489.000000</td>\n",
       "    </tr>\n",
       "  </tbody>\n",
       "</table>\n",
       "</div>"
      ],
      "text/plain": [
       "        created_utc  title_length  post_length\n",
       "count  6.467000e+03   6467.000000  6467.000000\n",
       "mean   1.646790e+09     42.657337   669.241843\n",
       "std    2.451901e+06     26.472960   437.489055\n",
       "min    1.642424e+09      0.000000     9.000000\n",
       "25%    1.644599e+09     24.000000   362.000000\n",
       "50%    1.646824e+09     37.000000   546.000000\n",
       "75%    1.648920e+09     55.000000   842.500000\n",
       "max    1.651178e+09    174.000000  2489.000000"
      ]
     },
     "execution_count": 37,
     "metadata": {},
     "output_type": "execute_result"
    }
   ],
   "source": [
    "keto_vegan.describe()"
   ]
  },
  {
   "cell_type": "code",
   "execution_count": 38,
   "metadata": {},
   "outputs": [
    {
     "data": {
      "image/png": "[encoded data removed]",
      "text/plain": [
       "<Figure size 2160x720 with 1 Axes>"
      ]
     },
     "metadata": {
      "needs_background": "light"
     },
     "output_type": "display_data"
    }
   ],
   "source": [
    "sns.displot(keto_vegan['title_length'], height=10, aspect=3)\n",
    "plt.title('Length of Titles')\n",
    "plt.savefig('figures/Length_Titles.png');"
   ]
  },
  {
   "cell_type": "markdown",
   "metadata": {},
   "source": [
    "**Interpretation**: On average, titles were around 43 characters"
   ]
  },
  {
   "cell_type": "code",
   "execution_count": 39,
   "metadata": {},
   "outputs": [
    {
     "data": {
      "image/png": "[encoded data removed]",
      "text/plain": [
       "<Figure size 2160x720 with 1 Axes>"
      ]
     },
     "metadata": {
      "needs_background": "light"
     },
     "output_type": "display_data"
    }
   ],
   "source": [
    "sns.displot(keto_vegan['post_length'], height=10, aspect=3)\n",
    "plt.title('Length of Posts')\n",
    "plt.savefig('figures/Length_Posts.png');"
   ]
  },
  {
   "cell_type": "markdown",
   "metadata": {},
   "source": [
    "**Interpretation**: On average, posts were around 669 characters"
   ]
  },
  {
   "cell_type": "code",
   "execution_count": 40,
   "metadata": {},
   "outputs": [
    {
     "data": {
      "text/html": [
       "<div>\n",
       "<style scoped>\n",
       "    .dataframe tbody tr th:only-of-type {\n",
       "        vertical-align: middle;\n",
       "    }\n",
       "\n",
       "    .dataframe tbody tr th {\n",
       "        vertical-align: top;\n",
       "    }\n",
       "\n",
       "    .dataframe thead th {\n",
       "        text-align: right;\n",
       "    }\n",
       "</style>\n",
       "<table border=\"1\" class=\"dataframe\">\n",
       "  <thead>\n",
       "    <tr style=\"text-align: right;\">\n",
       "      <th></th>\n",
       "      <th>title_length</th>\n",
       "      <th>post_length</th>\n",
       "    </tr>\n",
       "    <tr>\n",
       "      <th>subreddit</th>\n",
       "      <th></th>\n",
       "      <th></th>\n",
       "    </tr>\n",
       "  </thead>\n",
       "  <tbody>\n",
       "    <tr>\n",
       "      <th>keto</th>\n",
       "      <td>39.0</td>\n",
       "      <td>626.0</td>\n",
       "    </tr>\n",
       "    <tr>\n",
       "      <th>vegan</th>\n",
       "      <td>47.0</td>\n",
       "      <td>718.0</td>\n",
       "    </tr>\n",
       "  </tbody>\n",
       "</table>\n",
       "</div>"
      ],
      "text/plain": [
       "           title_length  post_length\n",
       "subreddit                           \n",
       "keto               39.0        626.0\n",
       "vegan              47.0        718.0"
      ]
     },
     "execution_count": 40,
     "metadata": {},
     "output_type": "execute_result"
    }
   ],
   "source": [
    "keto_vegan.groupby(['subreddit'])[['title_length','post_length']].mean().round()"
   ]
  },
  {
   "cell_type": "markdown",
   "metadata": {},
   "source": [
    "****Interpretation****: On average, vegan titles and posts were longer than keto titles and posts"
   ]
  },
  {
   "cell_type": "code",
   "execution_count": 41,
   "metadata": {},
   "outputs": [
    {
     "name": "stdout",
     "output_type": "stream",
     "text": [
      "<class 'pandas.core.frame.DataFrame'>\n",
      "Int64Index: 6467 entries, 1 to 12095\n",
      "Data columns (total 7 columns):\n",
      " #   Column        Non-Null Count  Dtype \n",
      "---  ------        --------------  ----- \n",
      " 0   subreddit     6467 non-null   object\n",
      " 1   title         6467 non-null   object\n",
      " 2   selftext      6467 non-null   object\n",
      " 3   created_utc   6467 non-null   int64 \n",
      " 4   title_posts   6467 non-null   object\n",
      " 5   title_length  6467 non-null   int64 \n",
      " 6   post_length   6467 non-null   int64 \n",
      "dtypes: int64(3), object(4)\n",
      "memory usage: 404.2+ KB\n"
     ]
    }
   ],
   "source": [
    "keto_vegan.info()"
   ]
  },
  {
   "cell_type": "code",
   "execution_count": 42,
   "metadata": {},
   "outputs": [],
   "source": [
    "keto_vegan.to_csv('data/keto_vegan.csv', index=False)"
   ]
  },
  {
   "cell_type": "code",
   "execution_count": 43,
   "metadata": {
    "tags": []
   },
   "outputs": [
    {
     "data": {
      "text/plain": [
       "Index(['keto', 'vegan', 'help', 'diet', 'weight', 'need', 'food', 'eating',\n",
       "       'question', 'meat', 'does', 'eat', 'veganism', 'just', 'vegans',\n",
       "       'carbs', 'like', 'good', 'people', 'fat', 'protein', '2022', 'animal',\n",
       "       'amp', 'feel'],\n",
       "      dtype='object')"
      ]
     },
     "execution_count": 43,
     "metadata": {},
     "output_type": "execute_result"
    }
   ],
   "source": [
    "cv_title = CountVectorizer(stop_words='english', ngram_range=(1,1), strip_accents='unicode', min_df=3)\n",
    "cv_title_transf = cv_title.fit_transform(keto_vegan['title'])\n",
    "cv_title_df = pd.DataFrame(cv_title_transf.toarray(),columns=cv_title.get_feature_names_out())\n",
    "top25_titles = cv_title_df.sum().sort_values(ascending=False).head(25)\n",
    "top25_titles.index"
   ]
  },
  {
   "cell_type": "code",
   "execution_count": 44,
   "metadata": {
    "tags": []
   },
   "outputs": [
    {
     "data": {
      "image/png": "[encoded data removed]",
      "text/plain": [
       "<Figure size 720x360 with 1 Axes>"
      ]
     },
     "metadata": {
      "needs_background": "light"
     },
     "output_type": "display_data"
    }
   ],
   "source": [
    "plt.figure(figsize=(10,5))\n",
    "top25_titles.plot.bar()\n",
    "plt.xlabel('Common Words')\n",
    "plt.xticks(rotation=50)\n",
    "plt.ylabel('Frequency')\n",
    "plt.title('Top 25 Common Words in Both Keto and Vegan Titles')\n",
    "plt.savefig('figures/Top_25_Keto_Vegan_Titles.png');"
   ]
  },
  {
   "cell_type": "markdown",
   "metadata": {},
   "source": [
    "**Interpretation**: Keto and Vegan are the most used word in the titles between the subreddits. Keto has a slightly higher frequency."
   ]
  },
  {
   "cell_type": "code",
   "execution_count": 45,
   "metadata": {
    "tags": []
   },
   "outputs": [
    {
     "data": {
      "text/plain": [
       "Index(['keto', 'vegan', 'just', 'like', 've', 'don', 'eat', 'know', 'day',\n",
       "       'weight', 'eating', 'really', 'time', 'feel', 'diet', 'want', 'people',\n",
       "       'food', 'carbs', 'meat', 'https', 'good', 'think', 'make', 'com'],\n",
       "      dtype='object')"
      ]
     },
     "execution_count": 45,
     "metadata": {},
     "output_type": "execute_result"
    }
   ],
   "source": [
    "cv_posts = CountVectorizer(stop_words='english', ngram_range=(1,1), strip_accents='unicode', min_df=3)\n",
    "cv_posts_transf = cv_posts.fit_transform(keto_vegan['selftext'])\n",
    "cv_posts_df = pd.DataFrame(cv_posts_transf.toarray(),columns=cv_posts.get_feature_names_out())\n",
    "top25_posts = cv_posts_df.sum().sort_values(ascending=False).head(25)\n",
    "top25_posts.index"
   ]
  },
  {
   "cell_type": "code",
   "execution_count": 46,
   "metadata": {
    "tags": []
   },
   "outputs": [
    {
     "data": {
      "image/png": "[encoded data removed]",
      "text/plain": [
       "<Figure size 720x360 with 1 Axes>"
      ]
     },
     "metadata": {
      "needs_background": "light"
     },
     "output_type": "display_data"
    }
   ],
   "source": [
    "plt.figure(figsize=(10,5))\n",
    "top25_posts.plot.bar()\n",
    "plt.xlabel('Common Words')\n",
    "plt.xticks(rotation=50)\n",
    "plt.ylabel('Frequency')\n",
    "plt.title('Top 25 Common Words in Both Keto and Vegan Posts')\n",
    "plt.savefig('figures/Top_25_Keto_Vegan_Posts.png');"
   ]
  },
  {
   "cell_type": "markdown",
   "metadata": {},
   "source": [
    "**Interpretation**: Keto and Vegan are the most used word in the posts between the subreddits. Keto has a  higher frequency."
   ]
  }
 ],
 "metadata": {
  "kernelspec": {
   "display_name": "Python 3 (ipykernel)",
   "language": "python",
   "name": "python3"
  },
  "language_info": {
   "codemirror_mode": {
    "name": "ipython",
    "version": 3
   },
   "file_extension": ".py",
   "mimetype": "text/x-python",
   "name": "python",
   "nbconvert_exporter": "python",
   "pygments_lexer": "ipython3",
   "version": "3.9.7"
  }
 },
 "nbformat": 4,
 "nbformat_minor": 4
}
